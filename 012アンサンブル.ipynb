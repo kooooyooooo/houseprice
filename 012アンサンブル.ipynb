{
 "cells": [
  {
   "cell_type": "markdown",
   "metadata": {},
   "source": [
    "# https://www.kaggle.com/darkside92/detailed-examination-for-house-price-top-10"
   ]
  },
  {
   "cell_type": "code",
   "execution_count": 3,
   "metadata": {},
   "outputs": [
    {
     "name": "stdout",
     "output_type": "stream",
     "text": [
      "Collecting lightgbm\n",
      "  Downloading lightgbm-2.3.1-py2.py3-none-win_amd64.whl (544 kB)\n",
      "Requirement already satisfied: scipy in c:\\users\\koyo\\anaconda3\\lib\\site-packages (from lightgbm) (1.5.0)\n",
      "Requirement already satisfied: scikit-learn in c:\\users\\koyo\\anaconda3\\lib\\site-packages (from lightgbm) (0.23.1)\n",
      "Requirement already satisfied: numpy in c:\\users\\koyo\\anaconda3\\lib\\site-packages (from lightgbm) (1.18.5)\n",
      "Requirement already satisfied: joblib>=0.11 in c:\\users\\koyo\\anaconda3\\lib\\site-packages (from scikit-learn->lightgbm) (0.16.0)\n",
      "Requirement already satisfied: threadpoolctl>=2.0.0 in c:\\users\\koyo\\anaconda3\\lib\\site-packages (from scikit-learn->lightgbm) (2.1.0)\n",
      "Installing collected packages: lightgbm\n",
      "Successfully installed lightgbm-2.3.1\n",
      "Collecting xgboost\n",
      "  Downloading xgboost-1.1.1-py3-none-win_amd64.whl (54.4 MB)\n",
      "Requirement already satisfied: numpy in c:\\users\\koyo\\anaconda3\\lib\\site-packages (from xgboost) (1.18.5)\n",
      "Requirement already satisfied: scipy in c:\\users\\koyo\\anaconda3\\lib\\site-packages (from xgboost) (1.5.0)\n",
      "Installing collected packages: xgboost\n",
      "Successfully installed xgboost-1.1.1\n"
     ]
    }
   ],
   "source": [
    "import numpy as np # linear algebra\n",
    "import pandas as pd # data processing, CSV file I/O (e.g. pd.read_csv)\n",
    "from scipy.stats import skew\n",
    "from scipy.special import boxcox1p\n",
    "from scipy.stats import boxcox_normmax\n",
    "from scipy.stats import boxcox\n",
    "from scipy.special import inv_boxcox\n",
    "import seaborn as sb\n",
    "import matplotlib.pyplot as plt\n",
    "!pip install lightgbm\n",
    "!pip install xgboost\n",
    "import lightgbm as lgb\n",
    "import xgboost as xgb\n",
    "from sklearn.neural_network import MLPRegressor\n",
    "from sklearn.model_selection import train_test_split\n",
    "from sklearn.model_selection import RandomizedSearchCV, KFold,GridSearchCV\n",
    "from sklearn.metrics import r2_score,mean_absolute_error,mean_squared_error\n",
    "from sklearn.preprocessing import StandardScaler,RobustScaler,LabelEncoder,PowerTransformer\n",
    "from sklearn.ensemble import GradientBoostingRegressor,StackingRegressor, RandomForestRegressor, ExtraTreesRegressor\n",
    "from sklearn.linear_model import ElasticNet, Lasso, Ridge\n",
    "from sklearn.model_selection import KFold, cross_val_score\n",
    "from sklearn.pipeline import make_pipeline\n",
    "from sklearn.tree import DecisionTreeRegressor\n",
    "from sklearn.cluster import DBSCAN\n",
    "from sklearn.neighbors import NearestNeighbors\n",
    "from sklearn.decomposition import PCA\n",
    "import seaborn as sns  \n",
    "import warnings\n",
    "warnings.filterwarnings(\"ignore\")         # for beautiful plots\n",
    "from scipy import stats                 # to calculate mode, skew and ANOVA, etc.\n",
    "import numpy as np # linear algebra\n",
    "np.set_printoptions(np.inf)\n",
    "import pandas as pd # data processing, CSV file I/O (e.g. pd.read_csv)\n",
    "import seaborn as sns\n",
    "import matplotlib.pyplot as plt\n",
    "from scipy.stats import norm, skew #for some statistics\n",
    "plt.rcParams['figure.figsize'] = (10, 8)\n",
    "# importing alll the necessary packages to use the various classification algorithms\n",
    "from sklearn.linear_model import LogisticRegression  # for Logistic Regression algorithm\n",
    "from sklearn.model_selection import train_test_split #to split the dataset for training and testing\n",
    "from sklearn.neighbors import KNeighborsClassifier  # for K nearest neighbours\n",
    "from sklearn import svm  #for Support Vector Machine (SVM) Algorithm\n",
    "from sklearn import metrics #for checking the model accuracy\n",
    "from sklearn.metrics import mean_squared_error #for checking the model accuracy\n",
    "from sklearn.tree import DecisionTreeClassifier #for using Decision Tree Algoithm\n",
    "from sklearn.linear_model import ElasticNet, Lasso,  BayesianRidge, LassoLarsIC\n",
    "from sklearn.ensemble import RandomForestRegressor,  GradientBoostingRegressor\n",
    "from sklearn.kernel_ridge import KernelRidge\n",
    "from sklearn.pipeline import make_pipeline\n",
    "from sklearn.preprocessing import RobustScaler\n",
    "from sklearn.base import BaseEstimator, TransformerMixin, RegressorMixin, clone\n",
    "from sklearn.model_selection import KFold, cross_val_score, train_test_split\n",
    "from sklearn.metrics import mean_squared_error\n",
    "np.set_printoptions(threshold=np.inf)\n",
    "import xgboost as xgb\n",
    "import lightgbm as lgb\n",
    "import time\n",
    "import pickle\n",
    "import gc"
   ]
  },
  {
   "cell_type": "code",
   "execution_count": 126,
   "metadata": {},
   "outputs": [],
   "source": [
    "pd.set_option('display.max_columns', 5000)\n",
    "pd.set_option('display.max_rows', 5000)\n",
    "train = pd.read_csv('../house price/train.csv')\n",
    "test = pd.read_csv('../house price/test.csv')\n",
    "sample_sub = pd.read_csv('../house price/sample_submission.csv')"
   ]
  },
  {
   "cell_type": "code",
   "execution_count": 127,
   "metadata": {
    "scrolled": true
   },
   "outputs": [
    {
     "name": "stdout",
     "output_type": "stream",
     "text": [
      "['PoolArea', 'PoolQC', 'exists_pool', 'Utilities_AllPub', 'Utilities_NoSeWa', 'Condition2_PosA', 'Condition2_PosN', 'Condition2_RRAe', 'Condition2_RRAn', 'RoofMatl_ClyTile', 'RoofMatl_Membran', 'RoofMatl_Metal', 'RoofMatl_Roll', 'Exterior1st_AsphShn', 'Exterior1st_CBlock', 'Exterior1st_ImStucc', 'Exterior2nd_CBlock', 'Exterior2nd_Other', 'Heating_Floor', 'Electrical_Mix', 'MiscFeature_TenC']\n",
      "(1433, 239)\n",
      "(1459, 239)\n",
      "X.finalshape (1433, 218)\n",
      "test.finalshape (1459, 218)\n"
     ]
    }
   ],
   "source": [
    "train = pd.read_pickle('../house price/011data.pkl')[0:1433]\n",
    "test = pd.read_pickle('../house price/011data.pkl')[1433:2919]\n",
    "\n",
    "X = train.drop(['SalePrice','SalePrice_Log1p','Id'],axis=1)\n",
    "y = train.SalePrice_Log1p\n",
    "test = test.drop(['SalePrice','SalePrice_Log1p','Id'],axis=1)\n",
    "\n",
    "def overfit_reducer(df):\n",
    "\n",
    "    overfit = []\n",
    "    for i in df.columns:\n",
    "        counts = df[i].value_counts()\n",
    "        zeros = counts.iloc[0]\n",
    "        if zeros / len(df) * 100 > 99.9:\n",
    "            overfit.append(i)\n",
    "    overfit = list(overfit)\n",
    "    return overfit\n",
    "\n",
    "overfitted_features = overfit_reducer(X)\n",
    "print(overfitted_features)\n",
    "print(X.shape)\n",
    "print(test.shape)\n",
    "X.drop(overfitted_features, axis=1, inplace=True)\n",
    "test.drop(overfitted_features, axis=1, inplace=True)\n",
    "print('X.finalshape',X.shape)\n",
    "print('test.finalshape',test.shape)"
   ]
  },
  {
   "cell_type": "markdown",
   "metadata": {},
   "source": [
    "## データの標準化"
   ]
  },
  {
   "cell_type": "code",
   "execution_count": 128,
   "metadata": {},
   "outputs": [],
   "source": [
    "std_scaler=StandardScaler()\n",
    "rbst_scaler=RobustScaler()\n",
    "power_transformer=PowerTransformer()\n",
    "X_std = pd.DataFrame(std_scaler.fit_transform(X))\n",
    "X_rbst = pd.DataFrame(rbst_scaler.fit_transform(X))\n",
    "X_pwr = pd.DataFrame(power_transformer.fit_transform(X))\n",
    "\n",
    "test_std = pd.DataFrame(std_scaler.transform(test))\n",
    "test_rbst = pd.DataFrame(rbst_scaler.transform(test))\n",
    "test_pwr = pd.DataFrame(power_transformer.transform(test))"
   ]
  },
  {
   "cell_type": "code",
   "execution_count": 129,
   "metadata": {},
   "outputs": [
    {
     "data": {
      "text/plain": [
       "False    1433\n",
       "Name: SalePrice_Log1p, dtype: int64"
      ]
     },
     "execution_count": 129,
     "metadata": {},
     "output_type": "execute_result"
    }
   ],
   "source": [
    "y.isnull().value_counts()"
   ]
  },
  {
   "cell_type": "markdown",
   "metadata": {},
   "source": [
    "## selected"
   ]
  },
  {
   "cell_type": "code",
   "execution_count": 130,
   "metadata": {
    "scrolled": true
   },
   "outputs": [
    {
     "name": "stdout",
     "output_type": "stream",
     "text": [
      "['PoolArea', 'PoolQC', 'exists_pool', 'Utilities_AllPub', 'Utilities_NoSeWa', 'Condition2_PosA', 'Condition2_PosN', 'Condition2_RRAe', 'Condition2_RRAn', 'RoofMatl_ClyTile', 'RoofMatl_Membran', 'RoofMatl_Metal', 'RoofMatl_Roll', 'Exterior1st_AsphShn', 'Exterior1st_CBlock', 'Exterior1st_ImStucc', 'Exterior2nd_CBlock', 'Exterior2nd_Other', 'Heating_Floor', 'Electrical_Mix', 'MiscFeature_TenC']\n",
      "(1433, 230)\n",
      "(1459, 230)\n",
      "X.finalshape (1433, 209)\n",
      "test.finalshape (1459, 209)\n"
     ]
    }
   ],
   "source": [
    "s_train = pd.read_pickle('../house price/010data.pkl')[0:1433]\n",
    "s_test = pd.read_pickle('../house price/010data.pkl')[1433:2919]\n",
    "\n",
    "s_X = s_train.drop(['SalePrice','SalePrice_Log1p','Id'],axis=1)\n",
    "s_y = s_train.SalePrice_Log1p\n",
    "s_test = s_test.drop(['SalePrice','SalePrice_Log1p','Id'],axis=1)\n",
    "\n",
    "def overfit_reducer(df):\n",
    "\n",
    "    overfit = []\n",
    "    for i in df.columns:\n",
    "        counts = df[i].value_counts()\n",
    "        zeros = counts.iloc[0]\n",
    "        if zeros / len(df) * 100 > 99.9:\n",
    "            overfit.append(i)\n",
    "    overfit = list(overfit)\n",
    "    return overfit\n",
    "\n",
    "overfitted_features = overfit_reducer(s_X)\n",
    "print(overfitted_features)\n",
    "print(s_X.shape)\n",
    "print(s_test.shape)\n",
    "s_X.drop(overfitted_features, axis=1, inplace=True)\n",
    "s_test.drop(overfitted_features, axis=1, inplace=True)\n",
    "print('X.finalshape',s_X.shape)\n",
    "print('test.finalshape',s_test.shape)\n",
    "\n",
    "s_X_std = pd.DataFrame(std_scaler.fit_transform(s_X))\n",
    "s_X_rbst = pd.DataFrame(rbst_scaler.fit_transform(s_X))\n",
    "s_X_pwr = pd.DataFrame(power_transformer.fit_transform(s_X))\n",
    "\n",
    "s_test_std = pd.DataFrame(std_scaler.transform(s_test))\n",
    "s_test_rbst = pd.DataFrame(rbst_scaler.transform(s_test))\n",
    "s_test_pwr = pd.DataFrame(power_transformer.transform(s_test))"
   ]
  },
  {
   "cell_type": "markdown",
   "metadata": {},
   "source": [
    "## バリデーション設計と評価指標"
   ]
  },
  {
   "cell_type": "code",
   "execution_count": 131,
   "metadata": {},
   "outputs": [],
   "source": [
    "def predict_cv(model, train_x, train_y, test_x):\n",
    "    preds = []\n",
    "    preds_test = []\n",
    "    va_indexes = []\n",
    "    \n",
    "    kf = KFold(n_splits=4, shuffle=True, random_state=6785)\n",
    "    \n",
    "    # クロスバリデーションで学習・予測を行い、予測値とインデックスを保存する\n",
    "    for i, (tr_idx, va_idx) in enumerate(kf.split(train_x)):\n",
    "        tr_x, va_x = train_x.iloc[tr_idx], train_x.iloc[va_idx]\n",
    "        tr_y, va_y = train_y.iloc[tr_idx], train_y.iloc[va_idx]\n",
    "        model.fit(tr_x, tr_y)\n",
    "        tr_pred = model.predict(tr_x)\n",
    "        pred = model.predict(va_x)\n",
    "        preds.append(pred)\n",
    "        pred_test = model.predict(test_x)\n",
    "        preds_test.append(pred_test)\n",
    "        va_indexes.append(va_idx)\n",
    "        print('  score Train : {:.6f}' .format(np.sqrt(mean_squared_error(tr_y, tr_pred))), \n",
    "              '  score Valid : {:.6f}' .format(np.sqrt(mean_squared_error(va_y, pred)))) \n",
    "        \n",
    "    # バリデーションデータに対する予測値を連結し、その後元の順番に並べなおす\n",
    "    va_indexes = np.concatenate(va_indexes)\n",
    "    preds = np.concatenate(preds, axis=0)\n",
    "    order = np.argsort(va_indexes)\n",
    "    pred_train = pd.DataFrame(preds[order])\n",
    "    \n",
    "    \n",
    "    # テストデータに対する予測値の平均をとる\n",
    "    preds_test = pd.DataFrame(np.mean(preds_test, axis=0))\n",
    "    print('Score : {:.6f}' .format(np.sqrt(mean_squared_error(train_y, pred_train))))\n",
    "    return pred_train, preds_test, model"
   ]
  },
  {
   "cell_type": "markdown",
   "metadata": {},
   "source": [
    "## LightGBM"
   ]
  },
  {
   "cell_type": "code",
   "execution_count": 132,
   "metadata": {
    "scrolled": false
   },
   "outputs": [
    {
     "name": "stdout",
     "output_type": "stream",
     "text": [
      "  score Train : 0.093182   score Valid : 0.118831\n",
      "  score Train : 0.093026   score Valid : 0.121786\n",
      "  score Train : 0.095731   score Valid : 0.111337\n",
      "  score Train : 0.092416   score Valid : 0.117907\n",
      "Score : 0.117528\n"
     ]
    }
   ],
   "source": [
    "lgbm = lgb.LGBMRegressor(objective='regression',\n",
    "                          num_leaves=2, \n",
    "                          learning_rate=0.035,\n",
    "                          n_estimators=2177,\n",
    "                          max_bin=200,\n",
    "                          bagging_fraction=0.65,\n",
    "                          bagging_freq=5, \n",
    "                          bagging_seed=7, \n",
    "                          feature_fraction=0.201, \n",
    "                          feature_fraction_seed=7,\n",
    "                          n_jobs=-1)\n",
    "\n",
    "lgbm_pred_train, lgbm_preds_test, lgbm = predict_cv(lgbm,  s_X_pwr, s_y, s_test_pwr)"
   ]
  },
  {
   "cell_type": "markdown",
   "metadata": {},
   "source": [
    "## Ridge回帰"
   ]
  },
  {
   "cell_type": "code",
   "execution_count": 133,
   "metadata": {
    "scrolled": false
   },
   "outputs": [
    {
     "name": "stdout",
     "output_type": "stream",
     "text": [
      "  score Train : 0.083759   score Valid : 0.132442\n",
      "  score Train : 0.086974   score Valid : 0.121943\n",
      "  score Train : 0.091301   score Valid : 0.105050\n",
      "  score Train : 0.086381   score Valid : 0.121313\n",
      "Score : 0.120594\n"
     ]
    }
   ],
   "source": [
    "ridge = Ridge(alpha=1)\n",
    "ridge_pred_train, ridge_preds_test, ridge = predict_cv(ridge,  X_pwr, y, test_pwr)"
   ]
  },
  {
   "cell_type": "markdown",
   "metadata": {},
   "source": [
    "## Lasso回帰"
   ]
  },
  {
   "cell_type": "code",
   "execution_count": 134,
   "metadata": {
    "scrolled": true
   },
   "outputs": [
    {
     "name": "stdout",
     "output_type": "stream",
     "text": [
      "  score Train : 0.085992   score Valid : 0.125102\n",
      "  score Train : 0.089115   score Valid : 0.111125\n",
      "  score Train : 0.093324   score Valid : 0.098694\n",
      "  score Train : 0.089249   score Valid : 0.111079\n",
      "Score : 0.111901\n"
     ]
    }
   ],
   "source": [
    "lasso = Lasso(alpha=0.001)\n",
    "lasso_pred_train, lasso_preds_test, lasso = predict_cv(lasso,  X_pwr, y, test_pwr)"
   ]
  },
  {
   "cell_type": "markdown",
   "metadata": {},
   "source": [
    "## ElasticNet"
   ]
  },
  {
   "cell_type": "code",
   "execution_count": 135,
   "metadata": {
    "scrolled": false
   },
   "outputs": [
    {
     "name": "stdout",
     "output_type": "stream",
     "text": [
      "  score Train : 0.099047   score Valid : 0.117792\n",
      "  score Train : 0.103135   score Valid : 0.108866\n",
      "  score Train : 0.104832   score Valid : 0.104982\n",
      "  score Train : 0.102134   score Valid : 0.109472\n",
      "Score : 0.110382\n"
     ]
    }
   ],
   "source": [
    "elastic = ElasticNet(alpha=0.01, l1_ratio=0.7)\n",
    "elastic_pred_train, elastic_preds_test, elastic = predict_cv(elastic,  X_pwr, y, test_pwr)"
   ]
  },
  {
   "cell_type": "markdown",
   "metadata": {},
   "source": [
    "## Stacking"
   ]
  },
  {
   "cell_type": "code",
   "execution_count": 136,
   "metadata": {},
   "outputs": [
    {
     "name": "stdout",
     "output_type": "stream",
     "text": [
      "  score Train : 0.087720   score Valid : 0.128819\n",
      "  score Train : 0.089898   score Valid : 0.121114\n",
      "  score Train : 0.100249   score Valid : 0.107430\n",
      "  score Train : 0.091263   score Valid : 0.113342\n",
      "Score : 0.117960\n"
     ]
    }
   ],
   "source": [
    "estimators = [('lgbm', lgbm),  \n",
    "              ('lasso', lasso),   \n",
    "              ('ridge', ridge),   \n",
    "              ('elasticnet', elastic)]\n",
    "\n",
    "stack = StackingRegressor(estimators=estimators, final_estimator=ExtraTreesRegressor(n_estimators=100), n_jobs=-1)\n",
    "stack_pred_train, stack_preds_test, stack = predict_cv(stack,  X_pwr, y, test_pwr)"
   ]
  },
  {
   "cell_type": "code",
   "execution_count": 137,
   "metadata": {
    "scrolled": false
   },
   "outputs": [
    {
     "name": "stdout",
     "output_type": "stream",
     "text": [
      "Count columns of test:  218\n",
      "Count columns of X:  218\n"
     ]
    }
   ],
   "source": [
    "print('Count columns of test: ',len(test.columns))\n",
    "print('Count columns of X: ',len(X.columns))"
   ]
  },
  {
   "cell_type": "markdown",
   "metadata": {},
   "source": [
    "## trainの予測値を見る"
   ]
  },
  {
   "cell_type": "code",
   "execution_count": 138,
   "metadata": {},
   "outputs": [],
   "source": [
    "lgbm_pred_train.columns = ['SalePrice']\n",
    "elastic_pred_train.columns = ['SalePrice']\n",
    "ridge_pred_train.columns = ['SalePrice']\n",
    "lasso_pred_train.columns = ['SalePrice']\n",
    "stack_pred_train.columns = ['SalePrice']"
   ]
  },
  {
   "cell_type": "code",
   "execution_count": 139,
   "metadata": {},
   "outputs": [
    {
     "name": "stdout",
     "output_type": "stream",
     "text": [
      "  score LGBM Train : 0.117528\n",
      "  score eNetTrain : 0.110382\n",
      "  score ridge Train : 0.120594\n",
      "  score Lasso Train : 0.111901\n",
      "  score Stack Train : 0.117960\n"
     ]
    }
   ],
   "source": [
    "print('  score LGBM Train : {:.6f}' .format(np.sqrt(mean_squared_error(y, lgbm_pred_train))))\n",
    "print('  score eNetTrain : {:.6f}' .format(np.sqrt(mean_squared_error(y, elastic_pred_train))))\n",
    "print('  score ridge Train : {:.6f}' .format(np.sqrt(mean_squared_error(y, ridge_pred_train))))\n",
    "print('  score Lasso Train : {:.6f}' .format(np.sqrt(mean_squared_error(y, lasso_pred_train))))\n",
    "print('  score Stack Train : {:.6f}' .format(np.sqrt(mean_squared_error(y, stack_pred_train))))"
   ]
  },
  {
   "cell_type": "code",
   "execution_count": 140,
   "metadata": {},
   "outputs": [],
   "source": [
    "best_pram_score = []\n",
    "scores = []\n",
    "for i in np.arange(0, 1, 0.1):\n",
    "    for j in np.arange(0, 1-i, 0.1):\n",
    "        for k in np.arange(0, 1-(i+j), 0.1):\n",
    "            for l in np.arange(0, 1-(i+j+k), 0.1):\n",
    "                m = 1-(i+j+k+l)\n",
    "                train_pred = i*lgbm_pred_train + j*elastic_pred_train + k*ridge_pred_train + l*lasso_pred_train + m*stack_pred_train\n",
    "                score = np.sqrt(mean_squared_error(y, train_pred))\n",
    "                best_pram_score.append([score, train_pred, i,j,k,l,m])"
   ]
  },
  {
   "cell_type": "code",
   "execution_count": 141,
   "metadata": {
    "scrolled": true
   },
   "outputs": [
    {
     "data": {
      "text/html": [
       "<div>\n",
       "<style scoped>\n",
       "    .dataframe tbody tr th:only-of-type {\n",
       "        vertical-align: middle;\n",
       "    }\n",
       "\n",
       "    .dataframe tbody tr th {\n",
       "        vertical-align: top;\n",
       "    }\n",
       "\n",
       "    .dataframe thead th {\n",
       "        text-align: right;\n",
       "    }\n",
       "</style>\n",
       "<table border=\"1\" class=\"dataframe\">\n",
       "  <thead>\n",
       "    <tr style=\"text-align: right;\">\n",
       "      <th></th>\n",
       "      <th>score</th>\n",
       "      <th>df</th>\n",
       "      <th>LGBM</th>\n",
       "      <th>eNet</th>\n",
       "      <th>Ridge</th>\n",
       "      <th>Lasso</th>\n",
       "      <th>Stack</th>\n",
       "    </tr>\n",
       "  </thead>\n",
       "  <tbody>\n",
       "    <tr>\n",
       "      <th>495</th>\n",
       "      <td>0.107518</td>\n",
       "      <td>SalePrice\n",
       "0     12.237495\n",
       "1     12.16658...</td>\n",
       "      <td>0.2</td>\n",
       "      <td>0.4</td>\n",
       "      <td>0.0</td>\n",
       "      <td>0.3</td>\n",
       "      <td>0.1</td>\n",
       "    </tr>\n",
       "  </tbody>\n",
       "</table>\n",
       "</div>"
      ],
      "text/plain": [
       "        score                                                 df  LGBM  eNet  \\\n",
       "495  0.107518        SalePrice\n",
       "0     12.237495\n",
       "1     12.16658...   0.2   0.4   \n",
       "\n",
       "     Ridge  Lasso  Stack  \n",
       "495    0.0    0.3    0.1  "
      ]
     },
     "execution_count": 141,
     "metadata": {},
     "output_type": "execute_result"
    }
   ],
   "source": [
    "best_param_score = pd.DataFrame(best_pram_score)\n",
    "best_param_score.columns = ['score', 'df', 'LGBM', 'eNet', 'Ridge', 'Lasso', 'Stack']\n",
    "best_param = best_param_score[best_param_score['score'] == best_param_score['score'].min()]\n",
    "i,j,k,l,m = best_param.iat[0, 2], best_param.iat[0, 3], best_param.iat[0, 4], best_param.iat[0, 5], best_param.iat[0,6]\n",
    "best_param"
   ]
  },
  {
   "cell_type": "code",
   "execution_count": 142,
   "metadata": {},
   "outputs": [
    {
     "data": {
      "text/html": [
       "<div>\n",
       "<style scoped>\n",
       "    .dataframe tbody tr th:only-of-type {\n",
       "        vertical-align: middle;\n",
       "    }\n",
       "\n",
       "    .dataframe tbody tr th {\n",
       "        vertical-align: top;\n",
       "    }\n",
       "\n",
       "    .dataframe thead th {\n",
       "        text-align: right;\n",
       "    }\n",
       "</style>\n",
       "<table border=\"1\" class=\"dataframe\">\n",
       "  <thead>\n",
       "    <tr style=\"text-align: right;\">\n",
       "      <th></th>\n",
       "      <th>score</th>\n",
       "      <th>df</th>\n",
       "      <th>LGBM</th>\n",
       "      <th>eNet</th>\n",
       "      <th>Ridge</th>\n",
       "      <th>Lasso</th>\n",
       "      <th>Stack</th>\n",
       "    </tr>\n",
       "  </thead>\n",
       "  <tbody>\n",
       "    <tr>\n",
       "      <th>495</th>\n",
       "      <td>0.107518</td>\n",
       "      <td>SalePrice\n",
       "0     12.237495\n",
       "1     12.16658...</td>\n",
       "      <td>0.2</td>\n",
       "      <td>0.4</td>\n",
       "      <td>0.0</td>\n",
       "      <td>0.3</td>\n",
       "      <td>0.1</td>\n",
       "    </tr>\n",
       "    <tr>\n",
       "      <th>583</th>\n",
       "      <td>0.107564</td>\n",
       "      <td>SalePrice\n",
       "0     12.237315\n",
       "1     12.16056...</td>\n",
       "      <td>0.3</td>\n",
       "      <td>0.3</td>\n",
       "      <td>0.0</td>\n",
       "      <td>0.3</td>\n",
       "      <td>0.1</td>\n",
       "    </tr>\n",
       "    <tr>\n",
       "      <th>480</th>\n",
       "      <td>0.107572</td>\n",
       "      <td>SalePrice\n",
       "0     12.238115\n",
       "1     12.17003...</td>\n",
       "      <td>0.2</td>\n",
       "      <td>0.3</td>\n",
       "      <td>0.0</td>\n",
       "      <td>0.4</td>\n",
       "      <td>0.1</td>\n",
       "    </tr>\n",
       "    <tr>\n",
       "      <th>505</th>\n",
       "      <td>0.107604</td>\n",
       "      <td>SalePrice\n",
       "0     12.233977\n",
       "1     12.16567...</td>\n",
       "      <td>0.2</td>\n",
       "      <td>0.5</td>\n",
       "      <td>0.0</td>\n",
       "      <td>0.3</td>\n",
       "      <td>0.0</td>\n",
       "    </tr>\n",
       "    <tr>\n",
       "      <th>592</th>\n",
       "      <td>0.107658</td>\n",
       "      <td>SalePrice\n",
       "0     12.236695\n",
       "1     12.15711...</td>\n",
       "      <td>0.3</td>\n",
       "      <td>0.4</td>\n",
       "      <td>0.0</td>\n",
       "      <td>0.2</td>\n",
       "      <td>0.1</td>\n",
       "    </tr>\n",
       "  </tbody>\n",
       "</table>\n",
       "</div>"
      ],
      "text/plain": [
       "        score                                                 df  LGBM  eNet  \\\n",
       "495  0.107518        SalePrice\n",
       "0     12.237495\n",
       "1     12.16658...   0.2   0.4   \n",
       "583  0.107564        SalePrice\n",
       "0     12.237315\n",
       "1     12.16056...   0.3   0.3   \n",
       "480  0.107572        SalePrice\n",
       "0     12.238115\n",
       "1     12.17003...   0.2   0.3   \n",
       "505  0.107604        SalePrice\n",
       "0     12.233977\n",
       "1     12.16567...   0.2   0.5   \n",
       "592  0.107658        SalePrice\n",
       "0     12.236695\n",
       "1     12.15711...   0.3   0.4   \n",
       "\n",
       "     Ridge  Lasso  Stack  \n",
       "495    0.0    0.3    0.1  \n",
       "583    0.0    0.3    0.1  \n",
       "480    0.0    0.4    0.1  \n",
       "505    0.0    0.3    0.0  \n",
       "592    0.0    0.2    0.1  "
      ]
     },
     "execution_count": 142,
     "metadata": {},
     "output_type": "execute_result"
    }
   ],
   "source": [
    "best_param_score.sort_values(by='score').head()"
   ]
  },
  {
   "cell_type": "markdown",
   "metadata": {},
   "source": [
    "## testの予測値を見る"
   ]
  },
  {
   "cell_type": "code",
   "execution_count": 143,
   "metadata": {
    "scrolled": true
   },
   "outputs": [],
   "source": [
    "lgbm_preds_test.columns = ['SalePrice']\n",
    "elastic_preds_test.columns = ['SalePrice']\n",
    "ridge_preds_test.columns = ['SalePrice']\n",
    "lasso_preds_test.columns = ['SalePrice']\n",
    "stack_preds_test.columns = ['SalePrice']\n",
    "\n",
    "lgbm_preds_test['SalePrice'] = np.floor(np.expm1(lgbm_preds_test['SalePrice']))\n",
    "elastic_preds_test['SalePrice'] = np.floor(np.expm1(elastic_preds_test['SalePrice']))\n",
    "ridge_preds_test['SalePrice'] = np.floor(np.expm1(ridge_preds_test['SalePrice']))\n",
    "lasso_preds_test['SalePrice'] = np.floor(np.expm1(lasso_preds_test['SalePrice']))\n",
    "stack_preds_test['SalePrice'] = np.floor(np.expm1(stack_preds_test['SalePrice']))"
   ]
  },
  {
   "cell_type": "code",
   "execution_count": 144,
   "metadata": {
    "scrolled": true
   },
   "outputs": [
    {
     "data": {
      "text/html": [
       "<div>\n",
       "<style scoped>\n",
       "    .dataframe tbody tr th:only-of-type {\n",
       "        vertical-align: middle;\n",
       "    }\n",
       "\n",
       "    .dataframe tbody tr th {\n",
       "        vertical-align: top;\n",
       "    }\n",
       "\n",
       "    .dataframe thead th {\n",
       "        text-align: right;\n",
       "    }\n",
       "</style>\n",
       "<table border=\"1\" class=\"dataframe\">\n",
       "  <thead>\n",
       "    <tr style=\"text-align: right;\">\n",
       "      <th></th>\n",
       "      <th>SalePrice</th>\n",
       "    </tr>\n",
       "  </thead>\n",
       "  <tbody>\n",
       "    <tr>\n",
       "      <th>1454</th>\n",
       "      <td>87051.0</td>\n",
       "    </tr>\n",
       "    <tr>\n",
       "      <th>1455</th>\n",
       "      <td>84063.0</td>\n",
       "    </tr>\n",
       "    <tr>\n",
       "      <th>1456</th>\n",
       "      <td>168658.0</td>\n",
       "    </tr>\n",
       "    <tr>\n",
       "      <th>1457</th>\n",
       "      <td>130819.0</td>\n",
       "    </tr>\n",
       "    <tr>\n",
       "      <th>1458</th>\n",
       "      <td>230952.0</td>\n",
       "    </tr>\n",
       "  </tbody>\n",
       "</table>\n",
       "</div>"
      ],
      "text/plain": [
       "      SalePrice\n",
       "1454    87051.0\n",
       "1455    84063.0\n",
       "1456   168658.0\n",
       "1457   130819.0\n",
       "1458   230952.0"
      ]
     },
     "execution_count": 144,
     "metadata": {},
     "output_type": "execute_result"
    }
   ],
   "source": [
    "lgbm_preds_test.tail()"
   ]
  },
  {
   "cell_type": "code",
   "execution_count": 145,
   "metadata": {
    "scrolled": true
   },
   "outputs": [
    {
     "data": {
      "text/html": [
       "<div>\n",
       "<style scoped>\n",
       "    .dataframe tbody tr th:only-of-type {\n",
       "        vertical-align: middle;\n",
       "    }\n",
       "\n",
       "    .dataframe tbody tr th {\n",
       "        vertical-align: top;\n",
       "    }\n",
       "\n",
       "    .dataframe thead th {\n",
       "        text-align: right;\n",
       "    }\n",
       "</style>\n",
       "<table border=\"1\" class=\"dataframe\">\n",
       "  <thead>\n",
       "    <tr style=\"text-align: right;\">\n",
       "      <th></th>\n",
       "      <th>SalePrice</th>\n",
       "    </tr>\n",
       "  </thead>\n",
       "  <tbody>\n",
       "    <tr>\n",
       "      <th>1454</th>\n",
       "      <td>85104.0</td>\n",
       "    </tr>\n",
       "    <tr>\n",
       "      <th>1455</th>\n",
       "      <td>82710.0</td>\n",
       "    </tr>\n",
       "    <tr>\n",
       "      <th>1456</th>\n",
       "      <td>172785.0</td>\n",
       "    </tr>\n",
       "    <tr>\n",
       "      <th>1457</th>\n",
       "      <td>122790.0</td>\n",
       "    </tr>\n",
       "    <tr>\n",
       "      <th>1458</th>\n",
       "      <td>229746.0</td>\n",
       "    </tr>\n",
       "  </tbody>\n",
       "</table>\n",
       "</div>"
      ],
      "text/plain": [
       "      SalePrice\n",
       "1454    85104.0\n",
       "1455    82710.0\n",
       "1456   172785.0\n",
       "1457   122790.0\n",
       "1458   229746.0"
      ]
     },
     "execution_count": 145,
     "metadata": {},
     "output_type": "execute_result"
    }
   ],
   "source": [
    "elastic_preds_test.tail()"
   ]
  },
  {
   "cell_type": "code",
   "execution_count": 146,
   "metadata": {},
   "outputs": [
    {
     "data": {
      "text/html": [
       "<div>\n",
       "<style scoped>\n",
       "    .dataframe tbody tr th:only-of-type {\n",
       "        vertical-align: middle;\n",
       "    }\n",
       "\n",
       "    .dataframe tbody tr th {\n",
       "        vertical-align: top;\n",
       "    }\n",
       "\n",
       "    .dataframe thead th {\n",
       "        text-align: right;\n",
       "    }\n",
       "</style>\n",
       "<table border=\"1\" class=\"dataframe\">\n",
       "  <thead>\n",
       "    <tr style=\"text-align: right;\">\n",
       "      <th></th>\n",
       "      <th>SalePrice</th>\n",
       "    </tr>\n",
       "  </thead>\n",
       "  <tbody>\n",
       "    <tr>\n",
       "      <th>1454</th>\n",
       "      <td>85654.0</td>\n",
       "    </tr>\n",
       "    <tr>\n",
       "      <th>1455</th>\n",
       "      <td>83240.0</td>\n",
       "    </tr>\n",
       "    <tr>\n",
       "      <th>1456</th>\n",
       "      <td>176817.0</td>\n",
       "    </tr>\n",
       "    <tr>\n",
       "      <th>1457</th>\n",
       "      <td>128221.0</td>\n",
       "    </tr>\n",
       "    <tr>\n",
       "      <th>1458</th>\n",
       "      <td>235007.0</td>\n",
       "    </tr>\n",
       "  </tbody>\n",
       "</table>\n",
       "</div>"
      ],
      "text/plain": [
       "      SalePrice\n",
       "1454    85654.0\n",
       "1455    83240.0\n",
       "1456   176817.0\n",
       "1457   128221.0\n",
       "1458   235007.0"
      ]
     },
     "execution_count": 146,
     "metadata": {},
     "output_type": "execute_result"
    }
   ],
   "source": [
    "ridge_preds_test.tail()"
   ]
  },
  {
   "cell_type": "code",
   "execution_count": 147,
   "metadata": {},
   "outputs": [
    {
     "data": {
      "text/html": [
       "<div>\n",
       "<style scoped>\n",
       "    .dataframe tbody tr th:only-of-type {\n",
       "        vertical-align: middle;\n",
       "    }\n",
       "\n",
       "    .dataframe tbody tr th {\n",
       "        vertical-align: top;\n",
       "    }\n",
       "\n",
       "    .dataframe thead th {\n",
       "        text-align: right;\n",
       "    }\n",
       "</style>\n",
       "<table border=\"1\" class=\"dataframe\">\n",
       "  <thead>\n",
       "    <tr style=\"text-align: right;\">\n",
       "      <th></th>\n",
       "      <th>SalePrice</th>\n",
       "    </tr>\n",
       "  </thead>\n",
       "  <tbody>\n",
       "    <tr>\n",
       "      <th>1454</th>\n",
       "      <td>84651.0</td>\n",
       "    </tr>\n",
       "    <tr>\n",
       "      <th>1455</th>\n",
       "      <td>81982.0</td>\n",
       "    </tr>\n",
       "    <tr>\n",
       "      <th>1456</th>\n",
       "      <td>175317.0</td>\n",
       "    </tr>\n",
       "    <tr>\n",
       "      <th>1457</th>\n",
       "      <td>124646.0</td>\n",
       "    </tr>\n",
       "    <tr>\n",
       "      <th>1458</th>\n",
       "      <td>233291.0</td>\n",
       "    </tr>\n",
       "  </tbody>\n",
       "</table>\n",
       "</div>"
      ],
      "text/plain": [
       "      SalePrice\n",
       "1454    84651.0\n",
       "1455    81982.0\n",
       "1456   175317.0\n",
       "1457   124646.0\n",
       "1458   233291.0"
      ]
     },
     "execution_count": 147,
     "metadata": {},
     "output_type": "execute_result"
    }
   ],
   "source": [
    "lasso_preds_test.tail()"
   ]
  },
  {
   "cell_type": "code",
   "execution_count": 148,
   "metadata": {},
   "outputs": [
    {
     "data": {
      "text/html": [
       "<div>\n",
       "<style scoped>\n",
       "    .dataframe tbody tr th:only-of-type {\n",
       "        vertical-align: middle;\n",
       "    }\n",
       "\n",
       "    .dataframe tbody tr th {\n",
       "        vertical-align: top;\n",
       "    }\n",
       "\n",
       "    .dataframe thead th {\n",
       "        text-align: right;\n",
       "    }\n",
       "</style>\n",
       "<table border=\"1\" class=\"dataframe\">\n",
       "  <thead>\n",
       "    <tr style=\"text-align: right;\">\n",
       "      <th></th>\n",
       "      <th>SalePrice</th>\n",
       "    </tr>\n",
       "  </thead>\n",
       "  <tbody>\n",
       "    <tr>\n",
       "      <th>1454</th>\n",
       "      <td>86982.0</td>\n",
       "    </tr>\n",
       "    <tr>\n",
       "      <th>1455</th>\n",
       "      <td>82947.0</td>\n",
       "    </tr>\n",
       "    <tr>\n",
       "      <th>1456</th>\n",
       "      <td>171486.0</td>\n",
       "    </tr>\n",
       "    <tr>\n",
       "      <th>1457</th>\n",
       "      <td>126083.0</td>\n",
       "    </tr>\n",
       "    <tr>\n",
       "      <th>1458</th>\n",
       "      <td>231867.0</td>\n",
       "    </tr>\n",
       "  </tbody>\n",
       "</table>\n",
       "</div>"
      ],
      "text/plain": [
       "      SalePrice\n",
       "1454    86982.0\n",
       "1455    82947.0\n",
       "1456   171486.0\n",
       "1457   126083.0\n",
       "1458   231867.0"
      ]
     },
     "execution_count": 148,
     "metadata": {},
     "output_type": "execute_result"
    }
   ],
   "source": [
    "stack_preds_test.tail()"
   ]
  },
  {
   "cell_type": "markdown",
   "metadata": {},
   "source": [
    "## 加重平均"
   ]
  },
  {
   "cell_type": "code",
   "execution_count": 149,
   "metadata": {},
   "outputs": [
    {
     "data": {
      "text/html": [
       "<div>\n",
       "<style scoped>\n",
       "    .dataframe tbody tr th:only-of-type {\n",
       "        vertical-align: middle;\n",
       "    }\n",
       "\n",
       "    .dataframe tbody tr th {\n",
       "        vertical-align: top;\n",
       "    }\n",
       "\n",
       "    .dataframe thead th {\n",
       "        text-align: right;\n",
       "    }\n",
       "</style>\n",
       "<table border=\"1\" class=\"dataframe\">\n",
       "  <thead>\n",
       "    <tr style=\"text-align: right;\">\n",
       "      <th></th>\n",
       "      <th>SalePrice</th>\n",
       "    </tr>\n",
       "  </thead>\n",
       "  <tbody>\n",
       "    <tr>\n",
       "      <th>1454</th>\n",
       "      <td>85846.2</td>\n",
       "    </tr>\n",
       "    <tr>\n",
       "      <th>1455</th>\n",
       "      <td>83163.3</td>\n",
       "    </tr>\n",
       "    <tr>\n",
       "      <th>1456</th>\n",
       "      <td>173039.3</td>\n",
       "    </tr>\n",
       "    <tr>\n",
       "      <th>1457</th>\n",
       "      <td>126354.4</td>\n",
       "    </tr>\n",
       "    <tr>\n",
       "      <th>1458</th>\n",
       "      <td>231777.6</td>\n",
       "    </tr>\n",
       "  </tbody>\n",
       "</table>\n",
       "</div>"
      ],
      "text/plain": [
       "      SalePrice\n",
       "1454    85846.2\n",
       "1455    83163.3\n",
       "1456   173039.3\n",
       "1457   126354.4\n",
       "1458   231777.6"
      ]
     },
     "execution_count": 149,
     "metadata": {},
     "output_type": "execute_result"
    }
   ],
   "source": [
    "final_pred = (lgbm_preds_test*i) + (elastic_preds_test*j) + (ridge_preds_test*k) + (ridge_preds_test*l) + (stack_preds_test*m)\n",
    "final_pred.tail()"
   ]
  },
  {
   "cell_type": "code",
   "execution_count": 150,
   "metadata": {},
   "outputs": [
    {
     "data": {
      "text/html": [
       "<div>\n",
       "<style scoped>\n",
       "    .dataframe tbody tr th:only-of-type {\n",
       "        vertical-align: middle;\n",
       "    }\n",
       "\n",
       "    .dataframe tbody tr th {\n",
       "        vertical-align: top;\n",
       "    }\n",
       "\n",
       "    .dataframe thead th {\n",
       "        text-align: right;\n",
       "    }\n",
       "</style>\n",
       "<table border=\"1\" class=\"dataframe\">\n",
       "  <thead>\n",
       "    <tr style=\"text-align: right;\">\n",
       "      <th></th>\n",
       "      <th>Id</th>\n",
       "      <th>SalePrice</th>\n",
       "    </tr>\n",
       "  </thead>\n",
       "  <tbody>\n",
       "    <tr>\n",
       "      <th>1454</th>\n",
       "      <td>2915</td>\n",
       "      <td>85846.2</td>\n",
       "    </tr>\n",
       "    <tr>\n",
       "      <th>1455</th>\n",
       "      <td>2916</td>\n",
       "      <td>83163.3</td>\n",
       "    </tr>\n",
       "    <tr>\n",
       "      <th>1456</th>\n",
       "      <td>2917</td>\n",
       "      <td>173039.3</td>\n",
       "    </tr>\n",
       "    <tr>\n",
       "      <th>1457</th>\n",
       "      <td>2918</td>\n",
       "      <td>126354.4</td>\n",
       "    </tr>\n",
       "    <tr>\n",
       "      <th>1458</th>\n",
       "      <td>2919</td>\n",
       "      <td>231777.6</td>\n",
       "    </tr>\n",
       "  </tbody>\n",
       "</table>\n",
       "</div>"
      ],
      "text/plain": [
       "        Id  SalePrice\n",
       "1454  2915    85846.2\n",
       "1455  2916    83163.3\n",
       "1456  2917   173039.3\n",
       "1457  2918   126354.4\n",
       "1458  2919   231777.6"
      ]
     },
     "execution_count": 150,
     "metadata": {},
     "output_type": "execute_result"
    }
   ],
   "source": [
    "sample_sub['SalePrice'] = final_pred\n",
    "sample_sub.tail()"
   ]
  },
  {
   "cell_type": "code",
   "execution_count": 151,
   "metadata": {},
   "outputs": [],
   "source": [
    "sample_sub.to_csv('submission_.12327_ratio3302_0805_2007.csv',index=False)\n",
    "#0.12275"
   ]
  },
  {
   "cell_type": "markdown",
   "metadata": {},
   "source": [
    " 0.12414 ENet*0.5 LGBM*0.5 cols=230\n",
    " \n",
    " 0.13137 Enet Only cols=230\n",
    " \n",
    " 0.12423 LGBM Only cols=230\n",
    " \n",
    " 0.13972 Enet Only cols=50 submissionに対しては過学習か \n",
    " \n",
    " 0.12772 ENet*0.5 LGBM*0.5 cols=50, 230\n",
    " \n",
    " 0.12465 ENet*0.2 LGBM*0.8 cols=50, 230\n",
    " \n"
   ]
  },
  {
   "cell_type": "markdown",
   "metadata": {},
   "source": [
    "# 最後を加重平均ではなくスタッキングにしてみる\n",
    "モデル同士の相関関係を無視しているのであまり良くない気がする"
   ]
  },
  {
   "cell_type": "code",
   "execution_count": 152,
   "metadata": {},
   "outputs": [
    {
     "name": "stdout",
     "output_type": "stream",
     "text": [
      "  score Train : 0.097123   score Valid : 0.122230\n",
      "  score Train : 0.095923   score Valid : 0.120737\n",
      "  score Train : 0.102420   score Valid : 0.107560\n",
      "  score Train : 0.096976   score Valid : 0.112285\n",
      "Score : 0.115865\n"
     ]
    }
   ],
   "source": [
    "estimators = [('lgbm', lgbm),  \n",
    "              ('elasticnet', elastic),\n",
    "              ('stacking', stack)]\n",
    "\n",
    "f_stack = StackingRegressor(estimators=estimators,final_estimator=ExtraTreesRegressor(n_estimators=100), n_jobs=-1)\n",
    "f_stack_pred_train, f_stack_preds_test, f_stack = predict_cv(f_stack,  X_pwr, y, test_pwr)"
   ]
  },
  {
   "cell_type": "code",
   "execution_count": 153,
   "metadata": {},
   "outputs": [],
   "source": [
    "f_stack_preds_test.columns = ['SalePrice']\n",
    "f_stack_preds_test['SalePrice'] = np.floor(np.expm1(f_stack_preds_test['SalePrice']))"
   ]
  },
  {
   "cell_type": "code",
   "execution_count": 155,
   "metadata": {},
   "outputs": [
    {
     "data": {
      "text/html": [
       "<div>\n",
       "<style scoped>\n",
       "    .dataframe tbody tr th:only-of-type {\n",
       "        vertical-align: middle;\n",
       "    }\n",
       "\n",
       "    .dataframe tbody tr th {\n",
       "        vertical-align: top;\n",
       "    }\n",
       "\n",
       "    .dataframe thead th {\n",
       "        text-align: right;\n",
       "    }\n",
       "</style>\n",
       "<table border=\"1\" class=\"dataframe\">\n",
       "  <thead>\n",
       "    <tr style=\"text-align: right;\">\n",
       "      <th></th>\n",
       "      <th>Id</th>\n",
       "      <th>SalePrice</th>\n",
       "    </tr>\n",
       "  </thead>\n",
       "  <tbody>\n",
       "    <tr>\n",
       "      <th>1454</th>\n",
       "      <td>2915</td>\n",
       "      <td>89217.0</td>\n",
       "    </tr>\n",
       "    <tr>\n",
       "      <th>1455</th>\n",
       "      <td>2916</td>\n",
       "      <td>89336.0</td>\n",
       "    </tr>\n",
       "    <tr>\n",
       "      <th>1456</th>\n",
       "      <td>2917</td>\n",
       "      <td>167470.0</td>\n",
       "    </tr>\n",
       "    <tr>\n",
       "      <th>1457</th>\n",
       "      <td>2918</td>\n",
       "      <td>124184.0</td>\n",
       "    </tr>\n",
       "    <tr>\n",
       "      <th>1458</th>\n",
       "      <td>2919</td>\n",
       "      <td>228481.0</td>\n",
       "    </tr>\n",
       "  </tbody>\n",
       "</table>\n",
       "</div>"
      ],
      "text/plain": [
       "        Id  SalePrice\n",
       "1454  2915    89217.0\n",
       "1455  2916    89336.0\n",
       "1456  2917   167470.0\n",
       "1457  2918   124184.0\n",
       "1458  2919   228481.0"
      ]
     },
     "execution_count": 155,
     "metadata": {},
     "output_type": "execute_result"
    }
   ],
   "source": [
    "sample_sub['SalePrice'] = f_stack_preds_test['SalePrice']\n",
    "sample_sub.tail()"
   ]
  },
  {
   "cell_type": "code",
   "execution_count": 156,
   "metadata": {},
   "outputs": [],
   "source": [
    "sample_sub.to_csv('submission_.finalstack_0805_2028.csv',index=False)"
   ]
  },
  {
   "cell_type": "code",
   "execution_count": null,
   "metadata": {},
   "outputs": [],
   "source": []
  }
 ],
 "metadata": {
  "kernelspec": {
   "display_name": "Python 3",
   "language": "python",
   "name": "python3"
  },
  "language_info": {
   "codemirror_mode": {
    "name": "ipython",
    "version": 3
   },
   "file_extension": ".py",
   "mimetype": "text/x-python",
   "name": "python",
   "nbconvert_exporter": "python",
   "pygments_lexer": "ipython3",
   "version": "3.8.3"
  }
 },
 "nbformat": 4,
 "nbformat_minor": 4
}
