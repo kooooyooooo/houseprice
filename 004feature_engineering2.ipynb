{
 "cells": [
  {
   "cell_type": "markdown",
   "metadata": {},
   "source": [
    "# https://www.kaggle.com/wrecked22/simple-xgboost-with-feature-engineering-and-eda"
   ]
  },
  {
   "cell_type": "markdown",
   "metadata": {},
   "source": [
    "# https://www.kaggle.com/rohan9889/xgb-lgbm-pipeline-featureengineering-house-price#Feature-Engineering-intuition"
   ]
  },
  {
   "cell_type": "markdown",
   "metadata": {},
   "source": [
    "## 003をもとに、別の特徴量を作っていく。参考にしているのは上記のノートブック。"
   ]
  },
  {
   "cell_type": "code",
   "execution_count": 39,
   "metadata": {},
   "outputs": [],
   "source": [
    "%matplotlib inline                      \n",
    "plt.rcParams['figure.figsize'] = (10, 8)\n",
    "import seaborn as sns                   # for beautiful plots\n",
    "from scipy import stats                 # to calculate mode, skew and ANOVA, etc.\n",
    "import numpy as np # linear algebra\n",
    "import pandas as pd # data processing, CSV file I/O (e.g. pd.read_csv)\n",
    "import seaborn as sns\n",
    "import matplotlib.pyplot as plt\n",
    "from scipy.stats import norm, skew #for some statistics\n",
    "\n",
    "# importing alll the necessary packages to use the various classification algorithms\n",
    "from sklearn.linear_model import LogisticRegression  # for Logistic Regression algorithm\n",
    "from sklearn.model_selection import train_test_split #to split the dataset for training and testing\n",
    "from sklearn.neighbors import KNeighborsClassifier  # for K nearest neighbours\n",
    "from sklearn import svm  #for Support Vector Machine (SVM) Algorithm\n",
    "from sklearn import metrics #for checking the model accuracy\n",
    "from sklearn.metrics import mean_squared_error #for checking the model accuracy\n",
    "from sklearn.tree import DecisionTreeClassifier #for using Decision Tree Algoithm\n",
    "from sklearn.linear_model import ElasticNet, Lasso,  BayesianRidge, LassoLarsIC\n",
    "from sklearn.ensemble import RandomForestRegressor,  GradientBoostingRegressor\n",
    "from sklearn.kernel_ridge import KernelRidge\n",
    "from sklearn.pipeline import make_pipeline\n",
    "from sklearn.preprocessing import RobustScaler\n",
    "from sklearn.base import BaseEstimator, TransformerMixin, RegressorMixin, clone\n",
    "from sklearn.model_selection import KFold, cross_val_score, train_test_split\n",
    "from sklearn.metrics import mean_squared_error\n",
    "import xgboost as xgb\n",
    "import lightgbm as lgb"
   ]
  },
  {
   "cell_type": "code",
   "execution_count": 40,
   "metadata": {},
   "outputs": [],
   "source": [
    "def reduce_mem_usage(df):\n",
    "    \"\"\" iterate through all the columns of a dataframe and modify the data type\n",
    "        to reduce memory usage.        \n",
    "    \"\"\"\n",
    "    start_mem = df.memory_usage().sum() / 1024**2\n",
    "    print('Memory usage of dataframe is {:.2f} MB'.format(start_mem))\n",
    "    \n",
    "    for col in df.columns:\n",
    "        col_type = df[col].dtype\n",
    "        \n",
    "        if col_type != object:\n",
    "            c_min = df[col].min()\n",
    "            c_max = df[col].max()\n",
    "            if str(col_type)[:3] == 'int':\n",
    "                if c_min > np.iinfo(np.int8).min and c_max < np.iinfo(np.int8).max:\n",
    "                    df[col] = df[col].astype(np.int8)\n",
    "                elif c_min > np.iinfo(np.int16).min and c_max < np.iinfo(np.int16).max:\n",
    "                    df[col] = df[col].astype(np.int16)\n",
    "                elif c_min > np.iinfo(np.int32).min and c_max < np.iinfo(np.int32).max:\n",
    "                    df[col] = df[col].astype(np.int32)\n",
    "                elif c_min > np.iinfo(np.int64).min and c_max < np.iinfo(np.int64).max:\n",
    "                    df[col] = df[col].astype(np.int64)  \n",
    "            else:\n",
    "                if c_min > np.finfo(np.float16).min and c_max < np.finfo(np.float16).max:\n",
    "                    df[col] = df[col].astype(np.float16)\n",
    "                elif c_min > np.finfo(np.float32).min and c_max < np.finfo(np.float32).max:\n",
    "                    df[col] = df[col].astype(np.float32)\n",
    "                else:\n",
    "                    df[col] = df[col].astype(np.float64)\n",
    "        else:\n",
    "            df[col] = df[col].astype('category')\n",
    "\n",
    "    end_mem = df.memory_usage().sum() / 1024**2\n",
    "    print('Memory usage after optimization is: {:.2f} MB'.format(end_mem))\n",
    "    print('Decreased by {:.1f}%'.format(100 * (start_mem - end_mem) / start_mem))\n",
    "    \n",
    "    return df\n",
    "\n",
    "\n",
    "def import_data(file):\n",
    "    \"\"\"create a dataframe and optimize its memory usage\"\"\"\n",
    "    df = pd.read_csv(file, parse_dates=True, keep_date_col=True)\n",
    "    df = reduce_mem_usage(df)\n",
    "    return df"
   ]
  },
  {
   "cell_type": "code",
   "execution_count": 41,
   "metadata": {},
   "outputs": [
    {
     "name": "stdout",
     "output_type": "stream",
     "text": [
      "Memory usage of dataframe is 0.90 MB\n",
      "Memory usage after optimization is: 0.16 MB\n",
      "Decreased by 81.7%\n",
      "Memory usage of dataframe is 0.89 MB\n",
      "Memory usage after optimization is: 0.16 MB\n",
      "Decreased by 81.7%\n"
     ]
    }
   ],
   "source": [
    "train = import_data('../house price/train.csv')\n",
    "test = import_data('../house price/test.csv')\n",
    "Id = test.Id\n",
    "target = train.SalePrice"
   ]
  },
  {
   "cell_type": "code",
   "execution_count": 42,
   "metadata": {},
   "outputs": [
    {
     "name": "stdout",
     "output_type": "stream",
     "text": [
      "Memory usage of dataframe is 2.82 MB\n",
      "Memory usage after optimization is: 0.47 MB\n",
      "Decreased by 83.3%\n"
     ]
    },
    {
     "data": {
      "text/html": [
       "<div>\n",
       "<style scoped>\n",
       "    .dataframe tbody tr th:only-of-type {\n",
       "        vertical-align: middle;\n",
       "    }\n",
       "\n",
       "    .dataframe tbody tr th {\n",
       "        vertical-align: top;\n",
       "    }\n",
       "\n",
       "    .dataframe thead th {\n",
       "        text-align: right;\n",
       "    }\n",
       "</style>\n",
       "<table border=\"1\" class=\"dataframe\">\n",
       "  <thead>\n",
       "    <tr style=\"text-align: right;\">\n",
       "      <th></th>\n",
       "      <th>MSSubClass</th>\n",
       "      <th>MSZoning</th>\n",
       "      <th>LotFrontage</th>\n",
       "      <th>LotArea</th>\n",
       "      <th>Street</th>\n",
       "      <th>Alley</th>\n",
       "      <th>LotShape</th>\n",
       "      <th>LandContour</th>\n",
       "      <th>Utilities</th>\n",
       "      <th>LotConfig</th>\n",
       "      <th>...</th>\n",
       "      <th>SimplKitchenQual</th>\n",
       "      <th>SimplHeatingQC</th>\n",
       "      <th>SimplBsmtFinType1</th>\n",
       "      <th>SimplBsmtFinType2</th>\n",
       "      <th>SimplBsmtCond</th>\n",
       "      <th>SimplBsmtQual</th>\n",
       "      <th>SimplExterCond</th>\n",
       "      <th>SimplExterQual</th>\n",
       "      <th>NeighborhoodBin</th>\n",
       "      <th>Neighborhood_Good</th>\n",
       "    </tr>\n",
       "  </thead>\n",
       "  <tbody>\n",
       "    <tr>\n",
       "      <th>0</th>\n",
       "      <td>60</td>\n",
       "      <td>3</td>\n",
       "      <td>65.0</td>\n",
       "      <td>8450</td>\n",
       "      <td>Pave</td>\n",
       "      <td>NaN</td>\n",
       "      <td>Reg</td>\n",
       "      <td>Lvl</td>\n",
       "      <td>AllPub</td>\n",
       "      <td>Inside</td>\n",
       "      <td>...</td>\n",
       "      <td>2</td>\n",
       "      <td>2</td>\n",
       "      <td>2</td>\n",
       "      <td>1</td>\n",
       "      <td>1</td>\n",
       "      <td>2</td>\n",
       "      <td>1</td>\n",
       "      <td>2</td>\n",
       "      <td>2</td>\n",
       "      <td>0.0</td>\n",
       "    </tr>\n",
       "    <tr>\n",
       "      <th>1</th>\n",
       "      <td>20</td>\n",
       "      <td>3</td>\n",
       "      <td>80.0</td>\n",
       "      <td>9600</td>\n",
       "      <td>Pave</td>\n",
       "      <td>NaN</td>\n",
       "      <td>Reg</td>\n",
       "      <td>Lvl</td>\n",
       "      <td>AllPub</td>\n",
       "      <td>FR2</td>\n",
       "      <td>...</td>\n",
       "      <td>1</td>\n",
       "      <td>2</td>\n",
       "      <td>2</td>\n",
       "      <td>1</td>\n",
       "      <td>1</td>\n",
       "      <td>2</td>\n",
       "      <td>1</td>\n",
       "      <td>1</td>\n",
       "      <td>3</td>\n",
       "      <td>0.0</td>\n",
       "    </tr>\n",
       "    <tr>\n",
       "      <th>2</th>\n",
       "      <td>60</td>\n",
       "      <td>3</td>\n",
       "      <td>68.0</td>\n",
       "      <td>11250</td>\n",
       "      <td>Pave</td>\n",
       "      <td>NaN</td>\n",
       "      <td>IR1</td>\n",
       "      <td>Lvl</td>\n",
       "      <td>AllPub</td>\n",
       "      <td>Inside</td>\n",
       "      <td>...</td>\n",
       "      <td>2</td>\n",
       "      <td>2</td>\n",
       "      <td>2</td>\n",
       "      <td>1</td>\n",
       "      <td>1</td>\n",
       "      <td>2</td>\n",
       "      <td>1</td>\n",
       "      <td>2</td>\n",
       "      <td>2</td>\n",
       "      <td>0.0</td>\n",
       "    </tr>\n",
       "    <tr>\n",
       "      <th>3</th>\n",
       "      <td>70</td>\n",
       "      <td>3</td>\n",
       "      <td>60.0</td>\n",
       "      <td>9550</td>\n",
       "      <td>Pave</td>\n",
       "      <td>NaN</td>\n",
       "      <td>IR1</td>\n",
       "      <td>Lvl</td>\n",
       "      <td>AllPub</td>\n",
       "      <td>Corner</td>\n",
       "      <td>...</td>\n",
       "      <td>2</td>\n",
       "      <td>2</td>\n",
       "      <td>2</td>\n",
       "      <td>1</td>\n",
       "      <td>2</td>\n",
       "      <td>1</td>\n",
       "      <td>1</td>\n",
       "      <td>1</td>\n",
       "      <td>3</td>\n",
       "      <td>1.0</td>\n",
       "    </tr>\n",
       "    <tr>\n",
       "      <th>4</th>\n",
       "      <td>60</td>\n",
       "      <td>3</td>\n",
       "      <td>84.0</td>\n",
       "      <td>14260</td>\n",
       "      <td>Pave</td>\n",
       "      <td>NaN</td>\n",
       "      <td>IR1</td>\n",
       "      <td>Lvl</td>\n",
       "      <td>AllPub</td>\n",
       "      <td>FR2</td>\n",
       "      <td>...</td>\n",
       "      <td>2</td>\n",
       "      <td>2</td>\n",
       "      <td>2</td>\n",
       "      <td>1</td>\n",
       "      <td>1</td>\n",
       "      <td>2</td>\n",
       "      <td>1</td>\n",
       "      <td>2</td>\n",
       "      <td>4</td>\n",
       "      <td>1.0</td>\n",
       "    </tr>\n",
       "  </tbody>\n",
       "</table>\n",
       "<p>5 rows × 125 columns</p>\n",
       "</div>"
      ],
      "text/plain": [
       "   MSSubClass  MSZoning  LotFrontage  LotArea Street Alley LotShape  \\\n",
       "0          60         3         65.0     8450   Pave   NaN      Reg   \n",
       "1          20         3         80.0     9600   Pave   NaN      Reg   \n",
       "2          60         3         68.0    11250   Pave   NaN      IR1   \n",
       "3          70         3         60.0     9550   Pave   NaN      IR1   \n",
       "4          60         3         84.0    14260   Pave   NaN      IR1   \n",
       "\n",
       "  LandContour Utilities LotConfig  ... SimplKitchenQual SimplHeatingQC  \\\n",
       "0         Lvl    AllPub    Inside  ...                2              2   \n",
       "1         Lvl    AllPub       FR2  ...                1              2   \n",
       "2         Lvl    AllPub    Inside  ...                2              2   \n",
       "3         Lvl    AllPub    Corner  ...                2              2   \n",
       "4         Lvl    AllPub       FR2  ...                2              2   \n",
       "\n",
       "  SimplBsmtFinType1 SimplBsmtFinType2 SimplBsmtCond SimplBsmtQual  \\\n",
       "0                 2                 1             1             2   \n",
       "1                 2                 1             1             2   \n",
       "2                 2                 1             1             2   \n",
       "3                 2                 1             2             1   \n",
       "4                 2                 1             1             2   \n",
       "\n",
       "   SimplExterCond  SimplExterQual  NeighborhoodBin  Neighborhood_Good  \n",
       "0               1               2                2                0.0  \n",
       "1               1               1                3                0.0  \n",
       "2               1               2                2                0.0  \n",
       "3               1               1                3                1.0  \n",
       "4               1               2                4                1.0  \n",
       "\n",
       "[5 rows x 125 columns]"
      ]
     },
     "execution_count": 42,
     "metadata": {},
     "output_type": "execute_result"
    }
   ],
   "source": [
    "alldata = import_data('../house price/alldata.csv')\n",
    "alldata = alldata.iloc[:,2:]\n",
    "alldata.head()"
   ]
  },
  {
   "cell_type": "code",
   "execution_count": 43,
   "metadata": {},
   "outputs": [
    {
     "data": {
      "text/plain": [
       "Index(['MSSubClass', 'MSZoning', 'LotFrontage', 'LotArea', 'Street', 'Alley',\n",
       "       'LotShape', 'LandContour', 'Utilities', 'LotConfig', 'LandSlope',\n",
       "       'Neighborhood', 'Condition1', 'Condition2', 'BldgType', 'HouseStyle',\n",
       "       'OverallQual', 'OverallCond', 'YearBuilt', 'YearRemodAdd', 'RoofStyle',\n",
       "       'RoofMatl', 'Exterior1st', 'Exterior2nd', 'MasVnrType', 'MasVnrArea',\n",
       "       'ExterQual', 'ExterCond', 'Foundation', 'BsmtQual', 'BsmtCond',\n",
       "       'BsmtExposure', 'BsmtFinType1', 'BsmtFinSF1', 'BsmtFinType2',\n",
       "       'BsmtFinSF2', 'BsmtUnfSF', 'TotalBsmtSF', 'Heating', 'HeatingQC',\n",
       "       'CentralAir', 'Electrical', '1stFlrSF', '2ndFlrSF', 'LowQualFinSF',\n",
       "       'GrLivArea', 'BsmtFullBath', 'BsmtHalfBath', 'FullBath', 'HalfBath',\n",
       "       'BedroomAbvGr', 'KitchenAbvGr', 'KitchenQual', 'TotRmsAbvGrd',\n",
       "       'Functional', 'Fireplaces', 'FireplaceQu', 'GarageType', 'GarageYrBlt',\n",
       "       'GarageFinish', 'GarageCars', 'GarageArea', 'GarageQual', 'GarageCond',\n",
       "       'PavedDrive', 'WoodDeckSF', 'OpenPorchSF', 'EnclosedPorch', '3SsnPorch',\n",
       "       'ScreenPorch', 'PoolArea', 'PoolQC', 'Fence', 'MiscFeature', 'MiscVal',\n",
       "       'MoSold', 'YrSold', 'SaleType', 'SaleCondition', 'SalePrice'],\n",
       "      dtype='object')"
      ]
     },
     "execution_count": 43,
     "metadata": {},
     "output_type": "execute_result"
    }
   ],
   "source": [
    "old_cols = train.columns.drop('Id')\n",
    "old_cols"
   ]
  },
  {
   "cell_type": "code",
   "execution_count": 44,
   "metadata": {},
   "outputs": [],
   "source": [
    "alldata2 = alldata[old_cols]"
   ]
  },
  {
   "cell_type": "code",
   "execution_count": 45,
   "metadata": {},
   "outputs": [],
   "source": [
    "alldata['cond*qual'] = (alldata2['OverallCond'] * alldata2['OverallQual']) / 100.0\n",
    "alldata['total_porch_area'] = alldata2['WoodDeckSF'] + alldata2['OpenPorchSF'] + alldata2['EnclosedPorch'] + alldata2['3SsnPorch'] + alldata2['ScreenPorch'] \n",
    "alldata['Totalsqrfootage'] = (alldata2['BsmtFinSF1'] + alldata2['BsmtFinSF2'] + alldata2['1stFlrSF'] + alldata2['2ndFlrSF'])\n",
    "alldata['Total_Bathrooms'] = (alldata2['FullBath'] + (0.5 * alldata2['HalfBath']) + alldata2['BsmtFullBath'] + (0.5 * alldata2['BsmtHalfBath']))"
   ]
  },
  {
   "cell_type": "code",
   "execution_count": 46,
   "metadata": {},
   "outputs": [],
   "source": [
    "alldata['GarageStatus'] = alldata2['GarageArea'].apply(lambda x: 1 if x > 0 else 0)\n",
    "alldata['BsmtStatus'] = alldata2['TotalBsmtSF'].apply(lambda x: 1 if x > 0 else 0)\n",
    "alldata['FirePlaceStatus'] = alldata2['Fireplaces'].apply(lambda x: 1 if x > 0 else 0)\n",
    "alldata['PoolStatus'] = alldata2['PoolArea'].apply(lambda x: 1 if x > 0 else 0)"
   ]
  },
  {
   "cell_type": "code",
   "execution_count": 47,
   "metadata": {},
   "outputs": [
    {
     "data": {
      "text/html": [
       "<div>\n",
       "<style scoped>\n",
       "    .dataframe tbody tr th:only-of-type {\n",
       "        vertical-align: middle;\n",
       "    }\n",
       "\n",
       "    .dataframe tbody tr th {\n",
       "        vertical-align: top;\n",
       "    }\n",
       "\n",
       "    .dataframe thead th {\n",
       "        text-align: right;\n",
       "    }\n",
       "</style>\n",
       "<table border=\"1\" class=\"dataframe\">\n",
       "  <thead>\n",
       "    <tr style=\"text-align: right;\">\n",
       "      <th></th>\n",
       "      <th>MSSubClass</th>\n",
       "      <th>MSZoning</th>\n",
       "      <th>LotFrontage</th>\n",
       "      <th>LotArea</th>\n",
       "      <th>Street</th>\n",
       "      <th>Alley</th>\n",
       "      <th>LotShape</th>\n",
       "      <th>LandContour</th>\n",
       "      <th>Utilities</th>\n",
       "      <th>LotConfig</th>\n",
       "      <th>...</th>\n",
       "      <th>NeighborhoodBin</th>\n",
       "      <th>Neighborhood_Good</th>\n",
       "      <th>cond*qual</th>\n",
       "      <th>total_porch_area</th>\n",
       "      <th>Totalsqrfootage</th>\n",
       "      <th>Total_Bathrooms</th>\n",
       "      <th>GarageStatus</th>\n",
       "      <th>BsmtStatus</th>\n",
       "      <th>FirePlaceStatus</th>\n",
       "      <th>PoolStatus</th>\n",
       "    </tr>\n",
       "  </thead>\n",
       "  <tbody>\n",
       "    <tr>\n",
       "      <th>2588</th>\n",
       "      <td>20</td>\n",
       "      <td>3</td>\n",
       "      <td>68.0</td>\n",
       "      <td>8298</td>\n",
       "      <td>Pave</td>\n",
       "      <td>NaN</td>\n",
       "      <td>IR1</td>\n",
       "      <td>HLS</td>\n",
       "      <td>AllPub</td>\n",
       "      <td>Inside</td>\n",
       "      <td>...</td>\n",
       "      <td>3</td>\n",
       "      <td>0.0</td>\n",
       "      <td>0.4</td>\n",
       "      <td>132</td>\n",
       "      <td>2147.0</td>\n",
       "      <td>2.0</td>\n",
       "      <td>1</td>\n",
       "      <td>1</td>\n",
       "      <td>1</td>\n",
       "      <td>0</td>\n",
       "    </tr>\n",
       "  </tbody>\n",
       "</table>\n",
       "<p>1 rows × 133 columns</p>\n",
       "</div>"
      ],
      "text/plain": [
       "      MSSubClass  MSZoning  LotFrontage  LotArea Street Alley LotShape  \\\n",
       "2588          20         3         68.0     8298   Pave   NaN      IR1   \n",
       "\n",
       "     LandContour Utilities LotConfig  ... NeighborhoodBin Neighborhood_Good  \\\n",
       "2588         HLS    AllPub    Inside  ...               3               0.0   \n",
       "\n",
       "     cond*qual total_porch_area Totalsqrfootage Total_Bathrooms  GarageStatus  \\\n",
       "2588       0.4              132          2147.0             2.0             1   \n",
       "\n",
       "      BsmtStatus  FirePlaceStatus  PoolStatus  \n",
       "2588           1                1           0  \n",
       "\n",
       "[1 rows x 133 columns]"
      ]
     },
     "execution_count": 47,
     "metadata": {},
     "output_type": "execute_result"
    }
   ],
   "source": [
    "alldata[alldata['GarageYrBlt'] == 2208]"
   ]
  },
  {
   "cell_type": "code",
   "execution_count": 48,
   "metadata": {},
   "outputs": [],
   "source": [
    "alldata.loc[2558, 'GarageYrBlt'] = 2008"
   ]
  },
  {
   "cell_type": "code",
   "execution_count": 49,
   "metadata": {},
   "outputs": [
    {
     "name": "stdout",
     "output_type": "stream",
     "text": [
      "Train (1456, 133)\n",
      "----------------\n",
      "Test (1459, 133)\n"
     ]
    }
   ],
   "source": [
    "train_new = alldata[alldata['SalePrice'].notnull()]\n",
    "test_new = alldata[alldata['SalePrice'].isnull()]\n",
    "\n",
    "print(\"Train\", train_new.shape)\n",
    "print ('----------------')\n",
    "print(\"Test\", test_new.shape)"
   ]
  },
  {
   "cell_type": "markdown",
   "metadata": {},
   "source": [
    "## モデリング（準備）"
   ]
  },
  {
   "cell_type": "code",
   "execution_count": 50,
   "metadata": {},
   "outputs": [],
   "source": [
    "data = alldata"
   ]
  },
  {
   "cell_type": "code",
   "execution_count": 51,
   "metadata": {},
   "outputs": [
    {
     "data": {
      "text/plain": [
       "0       12.247694\n",
       "1       12.109011\n",
       "2       12.317166\n",
       "3       11.849398\n",
       "4       12.429216\n",
       "          ...    \n",
       "2910          NaN\n",
       "2911          NaN\n",
       "2912          NaN\n",
       "2913          NaN\n",
       "2914          NaN\n",
       "Name: SalePrice, Length: 2915, dtype: float32"
      ]
     },
     "execution_count": 51,
     "metadata": {},
     "output_type": "execute_result"
    }
   ],
   "source": [
    "data['SalePrice'] = np.log(data['SalePrice'])\n",
    "data['SalePrice']"
   ]
  },
  {
   "cell_type": "code",
   "execution_count": 52,
   "metadata": {},
   "outputs": [],
   "source": [
    "import re\n",
    "data = data.rename(columns = lambda x:re.sub('[^A-Za-z0-9_]+', '', x))"
   ]
  },
  {
   "cell_type": "code",
   "execution_count": 53,
   "metadata": {
    "scrolled": true
   },
   "outputs": [],
   "source": [
    "train = data[:len(train_new)]\n",
    "test = data[len(train_new):]"
   ]
  },
  {
   "cell_type": "code",
   "execution_count": 54,
   "metadata": {},
   "outputs": [
    {
     "name": "stdout",
     "output_type": "stream",
     "text": [
      "['Street', 'Alley', 'LotShape', 'LandContour', 'Utilities', 'LotConfig', 'LandSlope', 'Neighborhood', 'Condition1', 'Condition2', 'BldgType', 'HouseStyle', 'RoofStyle', 'RoofMatl', 'Foundation', 'Heating', 'Electrical', 'GarageType', 'PavedDrive', 'MiscFeature', 'SaleCondition']\n"
     ]
    }
   ],
   "source": [
    "categorical_cols = list(data.select_dtypes(include=['category']).columns)\n",
    "print(categorical_cols)"
   ]
  },
  {
   "cell_type": "code",
   "execution_count": 56,
   "metadata": {},
   "outputs": [
    {
     "name": "stdout",
     "output_type": "stream",
     "text": [
      "(1456, 133) (1459, 133)\n"
     ]
    }
   ],
   "source": [
    "from sklearn import preprocessing\n",
    "def label_encoding(train: pd.DataFrame, test: pd.DataFrame, col_definition: dict):\n",
    "    \"\"\"\n",
    "    col_definition: encode_col\n",
    "    \"\"\"\n",
    "    n_train = len(train)\n",
    "    train = data\n",
    "    for f in col_definition['encode_col']:\n",
    "        try:\n",
    "            lbl = preprocessing.LabelEncoder()\n",
    "            train[f] = lbl.fit_transform(list(train[f].values))\n",
    "        except:\n",
    "            print(f)\n",
    "    test = train[n_train:].reset_index(drop=True)\n",
    "    train = train[:n_train]\n",
    "    return train, test\n",
    "\n",
    "train, test = label_encoding(train, test, col_definition={'encode_col': categorical_cols})\n",
    "print(train.shape, test.shape)"
   ]
  },
  {
   "cell_type": "code",
   "execution_count": 57,
   "metadata": {},
   "outputs": [],
   "source": [
    "X_train = train.drop('SalePrice', axis=1)\n",
    "y_train = train['SalePrice']\n",
    "X_test = test.drop('SalePrice', axis=1)"
   ]
  },
  {
   "cell_type": "code",
   "execution_count": 59,
   "metadata": {},
   "outputs": [],
   "source": [
    "categorical_cols = ['Street',\n",
    "       'LotShape', 'LandContour', 'Utilities', 'LotConfig',\n",
    "       'LandSlope', 'Neighborhood', 'Condition1', 'Condition2',\n",
    "       'BldgType', 'HouseStyle', 'RoofStyle', 'RoofMatl',\n",
    "       'Exterior1st', 'Exterior2nd', 'MasVnrType',\n",
    "       'ExterQual', 'ExterCond', 'Foundation', 'BsmtQual', 'BsmtCond',\n",
    "       'BsmtExposure', 'BsmtFinType1', 'BsmtFinType2',\n",
    "       'Heating', 'HeatingQC',\n",
    "       'CentralAir', 'Electrical', 'KitchenQual',\n",
    "       'Functional', 'FireplaceQu',\n",
    "       'GarageType', 'GarageFinish',\n",
    "       'GarageQual', 'GarageCond', 'PavedDrive',\n",
    "       'PoolQC', 'Fence', 'MiscFeature',\n",
    "       'SaleType', 'SaleCondition',\n",
    "       'IsRegularLotShape', 'IsLandLevel',\n",
    "       'IsLandSlopeGentle', 'IsElectricalSBrkr', 'IsGarageDetached',\n",
    "       'IsPavedDrive', 'HasShed', 'Remodeled',\n",
    "       'VeryNewHouse', 'Has2ndFloor', 'HasMasVnr', 'HasWoodDeck',\n",
    "       'HasOpenPorch', 'HasEnclosedPorch', 'Has3SsnPorch',\n",
    "       'HasScreenPorch', 'HighSeason', 'NewerDwelling',\n",
    "       'SaleCondition_PriceDown', 'BoughtOffPlan', 'BadHeating',\n",
    "       'TimeSinceSold', 'SeasonSold', 'NeighborhoodBin']"
   ]
  },
  {
   "cell_type": "markdown",
   "metadata": {},
   "source": [
    "## モデリング（lightgbm）"
   ]
  },
  {
   "cell_type": "code",
   "execution_count": 60,
   "metadata": {},
   "outputs": [
    {
     "name": "stderr",
     "output_type": "stream",
     "text": [
      "C:\\Users\\user\\Anaconda\\lib\\site-packages\\lightgbm\\basic.py:1291: UserWarning: Using categorical_feature in Dataset.\n",
      "  warnings.warn('Using categorical_feature in Dataset.')\n"
     ]
    },
    {
     "name": "stdout",
     "output_type": "stream",
     "text": [
      "Training until validation scores don't improve for 10 rounds\n",
      "[10]\ttraining's rmse: 0.265255\tvalid_1's rmse: 0.266169\n",
      "[20]\ttraining's rmse: 0.18795\tvalid_1's rmse: 0.197711\n",
      "[30]\ttraining's rmse: 0.142042\tvalid_1's rmse: 0.158662\n",
      "[40]\ttraining's rmse: 0.115616\tvalid_1's rmse: 0.138242\n",
      "[50]\ttraining's rmse: 0.0996789\tvalid_1's rmse: 0.128503\n",
      "[60]\ttraining's rmse: 0.0901709\tvalid_1's rmse: 0.123096\n",
      "[70]\ttraining's rmse: 0.083897\tvalid_1's rmse: 0.120611\n",
      "[80]\ttraining's rmse: 0.0794663\tvalid_1's rmse: 0.119064\n",
      "[90]\ttraining's rmse: 0.0759809\tvalid_1's rmse: 0.11782\n",
      "[100]\ttraining's rmse: 0.0730978\tvalid_1's rmse: 0.116832\n",
      "[110]\ttraining's rmse: 0.070614\tvalid_1's rmse: 0.116448\n",
      "[120]\ttraining's rmse: 0.0680302\tvalid_1's rmse: 0.116204\n",
      "[130]\ttraining's rmse: 0.0657571\tvalid_1's rmse: 0.116194\n",
      "Early stopping, best iteration is:\n",
      "[124]\ttraining's rmse: 0.0671559\tvalid_1's rmse: 0.115958\n",
      "Training until validation scores don't improve for 10 rounds\n",
      "[10]\ttraining's rmse: 0.261692\tvalid_1's rmse: 0.280051\n",
      "[20]\ttraining's rmse: 0.184722\tvalid_1's rmse: 0.205885\n",
      "[30]\ttraining's rmse: 0.138679\tvalid_1's rmse: 0.164797\n",
      "[40]\ttraining's rmse: 0.111725\tvalid_1's rmse: 0.144701\n",
      "[50]\ttraining's rmse: 0.0957794\tvalid_1's rmse: 0.135329\n",
      "[60]\ttraining's rmse: 0.0860757\tvalid_1's rmse: 0.130764\n",
      "[70]\ttraining's rmse: 0.0792225\tvalid_1's rmse: 0.128305\n",
      "[80]\ttraining's rmse: 0.0746235\tvalid_1's rmse: 0.12758\n",
      "[90]\ttraining's rmse: 0.0715086\tvalid_1's rmse: 0.126765\n",
      "[100]\ttraining's rmse: 0.0689113\tvalid_1's rmse: 0.126234\n",
      "[110]\ttraining's rmse: 0.0663541\tvalid_1's rmse: 0.125864\n",
      "[120]\ttraining's rmse: 0.0641037\tvalid_1's rmse: 0.125728\n",
      "[130]\ttraining's rmse: 0.0618858\tvalid_1's rmse: 0.125749\n",
      "[140]\ttraining's rmse: 0.0596493\tvalid_1's rmse: 0.12575\n",
      "Early stopping, best iteration is:\n",
      "[132]\ttraining's rmse: 0.0615236\tvalid_1's rmse: 0.125681\n",
      "Training until validation scores don't improve for 10 rounds\n",
      "[10]\ttraining's rmse: 0.256598\tvalid_1's rmse: 0.309622\n",
      "[20]\ttraining's rmse: 0.179974\tvalid_1's rmse: 0.236361\n",
      "[30]\ttraining's rmse: 0.134997\tvalid_1's rmse: 0.195112\n",
      "[40]\ttraining's rmse: 0.109055\tvalid_1's rmse: 0.173164\n",
      "[50]\ttraining's rmse: 0.0936522\tvalid_1's rmse: 0.160434\n",
      "[60]\ttraining's rmse: 0.0837616\tvalid_1's rmse: 0.152877\n",
      "[70]\ttraining's rmse: 0.0767802\tvalid_1's rmse: 0.148748\n",
      "[80]\ttraining's rmse: 0.0726323\tvalid_1's rmse: 0.145971\n",
      "[90]\ttraining's rmse: 0.0692968\tvalid_1's rmse: 0.14419\n",
      "[100]\ttraining's rmse: 0.066722\tvalid_1's rmse: 0.142925\n",
      "[110]\ttraining's rmse: 0.0640611\tvalid_1's rmse: 0.14235\n",
      "[120]\ttraining's rmse: 0.0619191\tvalid_1's rmse: 0.141818\n",
      "[130]\ttraining's rmse: 0.0597554\tvalid_1's rmse: 0.141343\n",
      "[140]\ttraining's rmse: 0.057764\tvalid_1's rmse: 0.140882\n",
      "[150]\ttraining's rmse: 0.056098\tvalid_1's rmse: 0.140689\n",
      "[160]\ttraining's rmse: 0.054619\tvalid_1's rmse: 0.140579\n",
      "[170]\ttraining's rmse: 0.0530646\tvalid_1's rmse: 0.140354\n",
      "[180]\ttraining's rmse: 0.0517279\tvalid_1's rmse: 0.140399\n",
      "Early stopping, best iteration is:\n",
      "[173]\ttraining's rmse: 0.0526453\tvalid_1's rmse: 0.140314\n",
      "Training until validation scores don't improve for 10 rounds\n",
      "[10]\ttraining's rmse: 0.267459\tvalid_1's rmse: 0.254294\n",
      "[20]\ttraining's rmse: 0.187807\tvalid_1's rmse: 0.189275\n",
      "[30]\ttraining's rmse: 0.140222\tvalid_1's rmse: 0.154046\n",
      "[40]\ttraining's rmse: 0.112691\tvalid_1's rmse: 0.137434\n",
      "[50]\ttraining's rmse: 0.0959653\tvalid_1's rmse: 0.128703\n",
      "[60]\ttraining's rmse: 0.0856035\tvalid_1's rmse: 0.124783\n",
      "[70]\ttraining's rmse: 0.0792366\tvalid_1's rmse: 0.122683\n",
      "[80]\ttraining's rmse: 0.0744002\tvalid_1's rmse: 0.121302\n",
      "[90]\ttraining's rmse: 0.0705239\tvalid_1's rmse: 0.12103\n",
      "[100]\ttraining's rmse: 0.0673758\tvalid_1's rmse: 0.120638\n",
      "[110]\ttraining's rmse: 0.0648583\tvalid_1's rmse: 0.12039\n",
      "[120]\ttraining's rmse: 0.062233\tvalid_1's rmse: 0.120314\n",
      "[130]\ttraining's rmse: 0.0599797\tvalid_1's rmse: 0.120077\n",
      "[140]\ttraining's rmse: 0.0582172\tvalid_1's rmse: 0.12004\n",
      "Early stopping, best iteration is:\n",
      "[132]\ttraining's rmse: 0.0595711\tvalid_1's rmse: 0.119827\n",
      "Training until validation scores don't improve for 10 rounds\n",
      "[10]\ttraining's rmse: 0.268468\tvalid_1's rmse: 0.246122\n",
      "[20]\ttraining's rmse: 0.189067\tvalid_1's rmse: 0.182643\n",
      "[30]\ttraining's rmse: 0.142554\tvalid_1's rmse: 0.149313\n",
      "[40]\ttraining's rmse: 0.115512\tvalid_1's rmse: 0.131829\n",
      "[50]\ttraining's rmse: 0.0999158\tvalid_1's rmse: 0.12316\n",
      "[60]\ttraining's rmse: 0.090223\tvalid_1's rmse: 0.117429\n",
      "[70]\ttraining's rmse: 0.0836415\tvalid_1's rmse: 0.114278\n",
      "[80]\ttraining's rmse: 0.0787612\tvalid_1's rmse: 0.112326\n",
      "[90]\ttraining's rmse: 0.0754265\tvalid_1's rmse: 0.111152\n",
      "[100]\ttraining's rmse: 0.0723\tvalid_1's rmse: 0.110003\n",
      "[110]\ttraining's rmse: 0.0700731\tvalid_1's rmse: 0.109375\n",
      "[120]\ttraining's rmse: 0.0680469\tvalid_1's rmse: 0.108946\n",
      "[130]\ttraining's rmse: 0.065753\tvalid_1's rmse: 0.108581\n",
      "[140]\ttraining's rmse: 0.0641808\tvalid_1's rmse: 0.108181\n",
      "[150]\ttraining's rmse: 0.0623674\tvalid_1's rmse: 0.107811\n",
      "[160]\ttraining's rmse: 0.0605808\tvalid_1's rmse: 0.107711\n",
      "[170]\ttraining's rmse: 0.0587559\tvalid_1's rmse: 0.107518\n",
      "Early stopping, best iteration is:\n",
      "[168]\ttraining's rmse: 0.0591416\tvalid_1's rmse: 0.10744\n"
     ]
    }
   ],
   "source": [
    "y_preds = []\n",
    "models = []\n",
    "oof_train = np.zeros((len(X_train),))\n",
    "cv = KFold(n_splits=5, shuffle=True, random_state=0)\n",
    "\n",
    "params = {\n",
    "    'num_leaves': 24,\n",
    "    'max_depth': 6,\n",
    "    'objective': 'regression',\n",
    "    'metric': 'rmse',\n",
    "    'learning_rate': 0.05\n",
    "}\n",
    "\n",
    "for fold_id, (train_index, valid_index) in enumerate(cv.split(X_train)):\n",
    "    X_tr = X_train.loc[train_index, :]\n",
    "    X_val = X_train.loc[valid_index, :]\n",
    "    y_tr = y_train[train_index]\n",
    "    y_val = y_train[valid_index]\n",
    "\n",
    "    lgb_train = lgb.Dataset(X_tr,\n",
    "                            y_tr,\n",
    "                            categorical_feature=categorical_cols)\n",
    "\n",
    "    lgb_eval = lgb.Dataset(X_val,\n",
    "                           y_val,\n",
    "                           reference=lgb_train,\n",
    "                           categorical_feature=categorical_cols)\n",
    "\n",
    "    model = lgb.train(params,\n",
    "                      lgb_train,\n",
    "                      valid_sets=[lgb_train, lgb_eval],\n",
    "                      verbose_eval=10,\n",
    "                      num_boost_round=1000,\n",
    "                      early_stopping_rounds=10)\n",
    "\n",
    "\n",
    "    oof_train[valid_index] = model.predict(X_val,\n",
    "                                           num_iteration=model.best_iteration)\n",
    "    y_pred = model.predict(X_test,\n",
    "                           num_iteration=model.best_iteration)\n",
    "\n",
    "    y_preds.append(y_pred)\n",
    "    models.append(model)"
   ]
  },
  {
   "cell_type": "code",
   "execution_count": 61,
   "metadata": {},
   "outputs": [
    {
     "name": "stdout",
     "output_type": "stream",
     "text": [
      "CV: 0.12233257565628454\n"
     ]
    }
   ],
   "source": [
    "print(f'CV: {np.sqrt(mean_squared_error(y_train, oof_train))}')"
   ]
  },
  {
   "cell_type": "code",
   "execution_count": 62,
   "metadata": {},
   "outputs": [],
   "source": [
    "sub = pd.DataFrame({'Id': Id, 'SalePrice': 0})\n",
    "y_sub = sum(y_preds) / len(y_preds)\n",
    "y_sub = np.expm1(y_sub)\n",
    "sub['SalePrice'] = y_sub\n",
    "sub.to_csv('submission.csv', index=False)\n",
    "# 12.936"
   ]
  },
  {
   "cell_type": "code",
   "execution_count": 63,
   "metadata": {},
   "outputs": [
    {
     "data": {
      "text/plain": [
       "<matplotlib.axes._subplots.AxesSubplot at 0x252c2738388>"
      ]
     },
     "execution_count": 63,
     "metadata": {},
     "output_type": "execute_result"
    },
    {
     "data": {
      "image/png": "[encoded data removed]",
      "text/plain": [
       "<Figure size 720x1440 with 1 Axes>"
      ]
     },
     "metadata": {
      "needs_background": "light"
     },
     "output_type": "display_data"
    }
   ],
   "source": [
    "lgb.plot_importance(model, figsize=(10,20))"
   ]
  },
  {
   "cell_type": "code",
   "execution_count": 64,
   "metadata": {},
   "outputs": [],
   "source": [
    "data.to_csv('004_data')"
   ]
  },
  {
   "cell_type": "code",
   "execution_count": null,
   "metadata": {},
   "outputs": [],
   "source": []
  }
 ],
 "metadata": {
  "kernelspec": {
   "display_name": "Python 3",
   "language": "python",
   "name": "python3"
  },
  "language_info": {
   "codemirror_mode": {
    "name": "ipython",
    "version": 3
   },
   "file_extension": ".py",
   "mimetype": "text/x-python",
   "name": "python",
   "nbconvert_exporter": "python",
   "pygments_lexer": "ipython3",
   "version": "3.7.6"
  }
 },
 "nbformat": 4,
 "nbformat_minor": 4
}
